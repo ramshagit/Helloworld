{
 "cells": [
  {
   "cell_type": "markdown",
   "metadata": {},
   "source": [
    "### Pandas Function Application\n"
   ]
  },
  {
   "cell_type": "markdown",
   "metadata": {},
   "source": [
    "###### To apply your own or another library’s functions to Pandas objects, you should be aware of the three important methods. The appropriate method to use depends on whether your function expects to operate on an entire DataFrame, row- or column-wise, or element wise.\n",
    "\n",
    "    1. Table wise Function Application: pipe()\n",
    "    2. Row or Column Wise Function Application: apply()\n",
    "    3. Element wise Function Application: applymap()"
   ]
  },
  {
   "cell_type": "markdown",
   "metadata": {},
   "source": [
    "#####  Table-wise Function Application\n",
    "\n",
    "Custom operations can be performed by passing the function and the appropriate number of parameters as pipe arguments. Thus, operation is performed on the whole DataFrame."
   ]
  },
  {
   "cell_type": "markdown",
   "metadata": {},
   "source": [
    "###### adder function\n",
    "\n",
    "The adder function adds two numeric values as parameters and returns the sum."
   ]
  },
  {
   "cell_type": "code",
   "execution_count": 23,
   "metadata": {},
   "outputs": [
    {
     "name": "stdout",
     "output_type": "stream",
     "text": [
      "[[ 0.47927305 -0.27683686  0.57574699]\n",
      " [-0.93305595 -0.01516465  0.13425567]\n",
      " [-0.99291131  0.271866   -1.14091165]\n",
      " [-1.18578136  1.11938374 -1.74944264]\n",
      " [ 0.8955763  -1.41439478 -1.20711814]]\n",
      "       col1      col2      col3\n",
      "0  0.479273 -0.276837  0.575747\n",
      "1 -0.933056 -0.015165  0.134256\n",
      "2 -0.992911  0.271866 -1.140912\n",
      "3 -1.185781  1.119384 -1.749443\n",
      "4  0.895576 -1.414395 -1.207118\n",
      "ele1:         col1      col2      col3\n",
      "0  0.479273 -0.276837  0.575747\n",
      "1 -0.933056 -0.015165  0.134256\n",
      "2 -0.992911  0.271866 -1.140912\n",
      "3 -1.185781  1.119384 -1.749443\n",
      "4  0.895576 -1.414395 -1.207118\n",
      "ele2:  4\n",
      "       col1      col2      col3\n",
      "0  4.479273  3.723163  4.575747\n",
      "1  3.066944  3.984835  4.134256\n",
      "2  3.007089  4.271866  2.859088\n",
      "3  2.814219  5.119384  2.250557\n",
      "4  4.895576  2.585605  2.792882\n",
      "       col1      col2      col3\n",
      "0  0.479273 -0.276837  0.575747\n",
      "1 -0.933056 -0.015165  0.134256\n",
      "2 -0.992911  0.271866 -1.140912\n",
      "3 -1.185781  1.119384 -1.749443\n",
      "4  0.895576 -1.414395 -1.207118\n",
      "col1   -0.347380\n",
      "col2   -0.063029\n",
      "col3   -0.677494\n",
      "dtype: float64\n"
     ]
    }
   ],
   "source": [
    "import pandas as pd\n",
    "import numpy as np\n",
    "\n",
    "def adder(ele1,ele2):\n",
    "    print(\"ele1: \", ele1)\n",
    "    print(\"ele2: \", ele2)\n",
    "    return ele1+ele2\n",
    "\n",
    "r = np.random.randn(5,3)\n",
    "print(r)\n",
    "df = pd.DataFrame(r,columns=['col1','col2','col3'])\n",
    "print(df)\n",
    "print(df.pipe(adder,4))\n",
    "print(df)\n",
    "print(df.apply(np.mean))"
   ]
  },
  {
   "cell_type": "markdown",
   "metadata": {},
   "source": [
    "##### Row or Column Wise Function Application\n",
    "\n",
    "Arbitrary functions can be applied along the axes of a DataFrame or Panel using the apply() method, which, like the descriptive statistics methods, takes an optional axis argument. By default, the operation performs column wise, taking each column as an array-like."
   ]
  },
  {
   "cell_type": "code",
   "execution_count": 30,
   "metadata": {},
   "outputs": [
    {
     "name": "stdout",
     "output_type": "stream",
     "text": [
      "       col1      col2      col3\n",
      "0  1.305334  0.610330  0.753719\n",
      "1  1.351581 -0.063001  0.988738\n",
      "2  1.366740  1.247631  0.135441\n",
      "3 -1.431409 -0.112658 -0.687645\n",
      "4  0.458578 -0.608444 -0.787887\n",
      "       col1      col2      col3\n",
      "0  1.305334  0.610330  0.753719\n",
      "1  1.351581 -0.063001  0.988738\n",
      "2  1.366740  1.247631  0.135441\n",
      "3 -1.431409 -0.112658 -0.687645\n",
      "4  0.458578 -0.608444 -0.787887\n",
      "col1    0.610165\n",
      "col2    0.214772\n",
      "col3    0.080473\n",
      "dtype: float64\n"
     ]
    }
   ],
   "source": [
    "df = pd.DataFrame(np.random.randn(5,3),columns=['col1','col2','col3'])\n",
    "print(df)\n",
    "df.apply(np.mean)\n",
    "print(df)\n",
    "print (df.apply(np.mean))"
   ]
  },
  {
   "cell_type": "markdown",
   "metadata": {},
   "source": [
    "By passing axis parameter, operations can be performed row wise."
   ]
  },
  {
   "cell_type": "code",
   "execution_count": 31,
   "metadata": {},
   "outputs": [
    {
     "name": "stdout",
     "output_type": "stream",
     "text": [
      "0    0.889794\n",
      "1    0.759106\n",
      "2    0.916604\n",
      "3   -0.743904\n",
      "4   -0.312584\n",
      "dtype: float64\n"
     ]
    }
   ],
   "source": [
    "#df = pd.DataFrame(np.random.randn(5,3),columns=['col1','col2','col3'])\n",
    "df.apply(np.mean,axis=1)\n",
    "print (df.apply(np.mean,axis=1))\n",
    "\n"
   ]
  },
  {
   "cell_type": "code",
   "execution_count": 34,
   "metadata": {},
   "outputs": [
    {
     "name": "stdout",
     "output_type": "stream",
     "text": [
      "col1    0.610165\n",
      "col2    0.214772\n",
      "col3    0.080473\n",
      "dtype: float64\n",
      "col1    2.798149\n",
      "col2    1.856075\n",
      "col3    1.776625\n",
      "dtype: float64\n"
     ]
    }
   ],
   "source": [
    "print(df.apply(np.mean))\n",
    "print(df.apply(lambda x: x.max() - x.min()))"
   ]
  },
  {
   "cell_type": "markdown",
   "metadata": {},
   "source": [
    "##### Element Wise Function Application\n",
    "\n",
    "Methods applymap() on DataFrame and analogously map() on Series accept any Python function taking a single value and returning a single value."
   ]
  },
  {
   "cell_type": "code",
   "execution_count": 39,
   "metadata": {},
   "outputs": [
    {
     "name": "stdout",
     "output_type": "stream",
     "text": [
      "       col1      col2      col3\n",
      "0  1.305334  0.610330  0.753719\n",
      "1  1.351581 -0.063001  0.988738\n",
      "2  1.366740  1.247631  0.135441\n",
      "3 -1.431409 -0.112658 -0.687645\n",
      "4  0.458578 -0.608444 -0.787887\n",
      "       col1      col2      col3\n",
      "0  1.305334  0.610330  0.753719\n",
      "1  1.351581 -0.063001  0.988738\n",
      "2  1.366740  1.247631  0.135441\n",
      "3 -1.431409 -0.112658 -0.687645\n",
      "4  0.458578 -0.608444 -0.787887\n",
      "0    130.533407\n",
      "1    135.158073\n",
      "2    136.673991\n",
      "3   -143.140945\n",
      "4     45.857812\n",
      "Name: col1, dtype: float64\n",
      "         col1        col2       col3\n",
      "0  130.533407   61.033030  75.371855\n",
      "1  135.158073   -6.300096  98.873762\n",
      "2  136.673991  124.763145  13.544077\n",
      "3 -143.140945  -11.265773 -68.764462\n",
      "4   45.857812  -60.844354 -78.788711\n"
     ]
    }
   ],
   "source": [
    "print(df)\n",
    "df['col1'].map(lambda x:x*100)\n",
    "print(df)\n",
    "print(df['col1'].map(lambda x:x*100))\n",
    "\n",
    "df.applymap(lambda x:x*100)\n",
    "print(df.applymap(lambda x:x*100))"
   ]
  },
  {
   "cell_type": "code",
   "execution_count": null,
   "metadata": {},
   "outputs": [],
   "source": []
  }
 ],
 "metadata": {
  "kernelspec": {
   "display_name": "Python 3",
   "language": "python",
   "name": "python3"
  },
  "language_info": {
   "codemirror_mode": {
    "name": "ipython",
    "version": 3
   },
   "file_extension": ".py",
   "mimetype": "text/x-python",
   "name": "python",
   "nbconvert_exporter": "python",
   "pygments_lexer": "ipython3",
   "version": "3.6.5"
  }
 },
 "nbformat": 4,
 "nbformat_minor": 2
}
