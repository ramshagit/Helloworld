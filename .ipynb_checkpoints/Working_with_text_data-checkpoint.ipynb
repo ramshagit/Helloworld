{
 "cells": [
  {
   "cell_type": "code",
   "execution_count": 1,
   "metadata": {},
   "outputs": [
    {
     "name": "stdout",
     "output_type": "stream",
     "text": [
      "0             Tom\n",
      "1    William Rick\n",
      "2            John\n",
      "3         Alber@t\n",
      "4             NaN\n",
      "5            1234\n",
      "6      SteveSmith\n",
      "dtype: object\n"
     ]
    }
   ],
   "source": [
    "import pandas as pd\n",
    "import numpy as np\n",
    "\n",
    "s = pd.Series(['Tom', 'William Rick', 'John', 'Alber@t', np.nan, '1234','SteveSmith'])\n",
    "\n",
    "print (s)"
   ]
  },
  {
   "cell_type": "markdown",
   "metadata": {},
   "source": [
    "## lower() - Converts strings in the Series/Index to lower case"
   ]
  },
  {
   "cell_type": "code",
   "execution_count": 3,
   "metadata": {},
   "outputs": [
    {
     "name": "stdout",
     "output_type": "stream",
     "text": [
      "0             tom\n",
      "1    william rick\n",
      "2            john\n",
      "3         alber@t\n",
      "4             NaN\n",
      "5            1234\n",
      "6      stevesmith\n",
      "dtype: object\n"
     ]
    }
   ],
   "source": [
    "print (s.str.lower())"
   ]
  },
  {
   "cell_type": "markdown",
   "metadata": {},
   "source": [
    "## upper()\tConverts strings in the Series/Index to upper case"
   ]
  },
  {
   "cell_type": "code",
   "execution_count": 4,
   "metadata": {},
   "outputs": [
    {
     "name": "stdout",
     "output_type": "stream",
     "text": [
      "0             TOM\n",
      "1    WILLIAM RICK\n",
      "2            JOHN\n",
      "3         ALBER@T\n",
      "4             NaN\n",
      "5            1234\n",
      "6      STEVESMITH\n",
      "dtype: object\n"
     ]
    }
   ],
   "source": [
    "print (s.str.upper())"
   ]
  },
  {
   "cell_type": "markdown",
   "metadata": {},
   "source": [
    "## len()\tComputes String length()"
   ]
  },
  {
   "cell_type": "code",
   "execution_count": 5,
   "metadata": {},
   "outputs": [
    {
     "name": "stdout",
     "output_type": "stream",
     "text": [
      "0     3.0\n",
      "1    12.0\n",
      "2     4.0\n",
      "3     7.0\n",
      "4     NaN\n",
      "5     4.0\n",
      "6    10.0\n",
      "dtype: float64\n"
     ]
    }
   ],
   "source": [
    "print (s.str.len())"
   ]
  },
  {
   "cell_type": "markdown",
   "metadata": {},
   "source": [
    "## strip()\tHelps strip whitespace(including newline) from each string in the Series/index from both the sides"
   ]
  },
  {
   "cell_type": "code",
   "execution_count": 13,
   "metadata": {},
   "outputs": [
    {
     "name": "stdout",
     "output_type": "stream",
     "text": [
      "0             Tom \n",
      "1     William Rick\n",
      "2             John\n",
      "3          Alber@t\n",
      "dtype: object\n",
      "\n",
      "\n",
      "After Stripping:\n",
      "0             Tom\n",
      "1    William Rick\n",
      "2            John\n",
      "3         Alber@t\n",
      "dtype: object\n"
     ]
    }
   ],
   "source": [
    "s = pd.Series(['Tom ', ' William Rick', 'John', 'Alber@t'])\n",
    "print (s)\n",
    "print ('\\n')\n",
    "print (\"After Stripping:\")\n",
    "print (s.str.strip())"
   ]
  },
  {
   "cell_type": "markdown",
   "metadata": {},
   "source": [
    "## split(' ')\tSplits each string with the given pattern"
   ]
  },
  {
   "cell_type": "code",
   "execution_count": 16,
   "metadata": {},
   "outputs": [
    {
     "name": "stdout",
     "output_type": "stream",
     "text": [
      "0             Tom \n",
      "1     William Rick\n",
      "2             John\n",
      "3          Alber@t\n",
      "dtype: object\n",
      "\n",
      "\n",
      "Split Pattern:\n",
      "\n",
      "\n",
      "0              [Tom, ]\n",
      "1    [, William, Rick]\n",
      "2               [John]\n",
      "3            [Alber@t]\n",
      "dtype: object\n"
     ]
    }
   ],
   "source": [
    "s = pd.Series(['Tom ', ' William Rick', 'John', 'Alber@t'])\n",
    "print (s)\n",
    "print ('\\n')\n",
    "print (\"Split Pattern:\")\n",
    "print ('\\n')\n",
    "print (s.str.split(' '))"
   ]
  },
  {
   "cell_type": "markdown",
   "metadata": {},
   "source": [
    "## cat(sep=' ')\tConcatenates the series/index elements with given separator."
   ]
  },
  {
   "cell_type": "code",
   "execution_count": 18,
   "metadata": {},
   "outputs": [
    {
     "name": "stdout",
     "output_type": "stream",
     "text": [
      "Tom _ William Rick_John_Alber@t\n"
     ]
    }
   ],
   "source": [
    "s = pd.Series(['Tom ', ' William Rick', 'John', 'Alber@t'])\n",
    "\n",
    "print (s.str.cat(sep='_'))"
   ]
  },
  {
   "cell_type": "markdown",
   "metadata": {},
   "source": [
    "## get_dummies()\tReturns the DataFrame with One-Hot Encoded values."
   ]
  },
  {
   "cell_type": "code",
   "execution_count": 20,
   "metadata": {},
   "outputs": [
    {
     "name": "stdout",
     "output_type": "stream",
     "text": [
      "    William Rick  Alber@t  John  Tom \n",
      "0              0        0     0     1\n",
      "1              1        0     0     0\n",
      "2              0        0     1     0\n",
      "3              0        1     0     0\n"
     ]
    }
   ],
   "source": [
    "s = pd.Series(['Tom ', ' William Rick', 'John', 'Alber@t'])\n",
    "\n",
    "print (s.str.get_dummies())"
   ]
  },
  {
   "cell_type": "markdown",
   "metadata": {},
   "source": [
    "## contains(pattern)\tReturns a Boolean value True for each element if the substring contains in the element, else False."
   ]
  },
  {
   "cell_type": "code",
   "execution_count": 21,
   "metadata": {},
   "outputs": [
    {
     "name": "stdout",
     "output_type": "stream",
     "text": [
      "0     True\n",
      "1     True\n",
      "2    False\n",
      "3    False\n",
      "dtype: bool\n"
     ]
    }
   ],
   "source": [
    "s = pd.Series(['Tom ', ' William Rick', 'John', 'Alber@t'])\n",
    "print (s.str.contains(' '))"
   ]
  },
  {
   "cell_type": "markdown",
   "metadata": {},
   "source": [
    "## replace(a,b)\tReplaces the value a with the value b."
   ]
  },
  {
   "cell_type": "code",
   "execution_count": 22,
   "metadata": {},
   "outputs": [
    {
     "name": "stdout",
     "output_type": "stream",
     "text": [
      "0             Tom \n",
      "1     William Rick\n",
      "2             John\n",
      "3          Alber@t\n",
      "dtype: object\n",
      "\n",
      "\n",
      "After replacing @ with $:\n",
      "0             Tom \n",
      "1     William Rick\n",
      "2             John\n",
      "3          Alber$t\n",
      "dtype: object\n"
     ]
    }
   ],
   "source": [
    "s = pd.Series(['Tom ', ' William Rick', 'John', 'Alber@t'])\n",
    "print (s)\n",
    "print ('\\n')\n",
    "print (\"After replacing @ with $:\")\n",
    "print (s.str.replace('@','$'))"
   ]
  },
  {
   "cell_type": "markdown",
   "metadata": {},
   "source": [
    "## repeat(value)\tRepeats each element with specified number of times."
   ]
  },
  {
   "cell_type": "code",
   "execution_count": 23,
   "metadata": {},
   "outputs": [
    {
     "name": "stdout",
     "output_type": "stream",
     "text": [
      "0                      Tom Tom \n",
      "1     William Rick William Rick\n",
      "2                      JohnJohn\n",
      "3                Alber@tAlber@t\n",
      "dtype: object\n"
     ]
    }
   ],
   "source": [
    "s = pd.Series(['Tom ', ' William Rick', 'John', 'Alber@t'])\n",
    "\n",
    "print (s.str.repeat(2))"
   ]
  },
  {
   "cell_type": "code",
   "execution_count": null,
   "metadata": {},
   "outputs": [],
   "source": []
  }
 ],
 "metadata": {
  "kernelspec": {
   "display_name": "Python 3",
   "language": "python",
   "name": "python3"
  },
  "language_info": {
   "codemirror_mode": {
    "name": "ipython",
    "version": 3
   },
   "file_extension": ".py",
   "mimetype": "text/x-python",
   "name": "python",
   "nbconvert_exporter": "python",
   "pygments_lexer": "ipython3",
   "version": "3.6.5"
  }
 },
 "nbformat": 4,
 "nbformat_minor": 2
}
