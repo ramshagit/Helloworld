{
 "cells": [
  {
   "cell_type": "markdown",
   "metadata": {},
   "source": [
    "#### Reindexing\n",
    "\n",
    "Reindexing changes the row labels and column labels of a DataFrame. To reindex means to conform the data to match a given set of labels along a particular axis.\n",
    "\n",
    "Multiple operations can be accomplished through indexing like −\n",
    "\n",
    "    1. Reorder the existing data to match a new set of labels.\n",
    "    2. Insert missing value (NA) markers in label locations where no data for the label existed.\n"
   ]
  },
  {
   "cell_type": "code",
   "execution_count": 2,
   "metadata": {},
   "outputs": [
    {
     "name": "stdout",
     "output_type": "stream",
     "text": [
      "            A     x         y       C           D\n",
      "0  2016-01-01   0.0  0.577828     Low   94.133983\n",
      "1  2016-01-02   1.0  0.288539     Low   82.772606\n",
      "2  2016-01-03   2.0  0.683746     Low   97.408563\n",
      "3  2016-01-04   3.0  0.787850    High   79.782049\n",
      "4  2016-01-05   4.0  0.834927  Medium   77.590439\n",
      "5  2016-01-06   5.0  0.632270     Low   90.722540\n",
      "6  2016-01-07   6.0  0.884251  Medium   91.891968\n",
      "7  2016-01-08   7.0  0.134866    High   91.011383\n",
      "8  2016-01-09   8.0  0.516954     Low  101.160012\n",
      "9  2016-01-10   9.0  0.481512    High   76.754845\n",
      "10 2016-01-11  10.0  0.611139    High  100.637506\n",
      "11 2016-01-12  11.0  0.215090  Medium   94.453828\n",
      "12 2016-01-13  12.0  0.937988  Medium  112.279840\n",
      "13 2016-01-14  13.0  0.104707    High   93.999147\n",
      "14 2016-01-15  14.0  0.237414  Medium  112.562033\n",
      "15 2016-01-16  15.0  0.985195  Medium  101.577778\n",
      "16 2016-01-17  16.0  0.998506  Medium   97.092308\n",
      "17 2016-01-18  17.0  0.637261  Medium  102.950779\n",
      "18 2016-01-19  18.0  0.337014     Low  116.025620\n",
      "19 2016-01-20  19.0  0.753713  Medium  106.312793\n",
      "           A    C   B\n",
      "0 2016-01-01  Low NaN\n",
      "2 2016-01-03  Low NaN\n",
      "5 2016-01-06  Low NaN\n"
     ]
    }
   ],
   "source": [
    "import pandas as pd\n",
    "import numpy as np\n",
    "\n",
    "N=20\n",
    "\n",
    "df = pd.DataFrame({\n",
    "   'A': pd.date_range(start='2016-01-01',periods=N,freq='D'),\n",
    "   'x': np.linspace(0,stop=N-1,num=N),\n",
    "   'y': np.random.rand(N),\n",
    "   'C': np.random.choice(['Low','Medium','High'],N).tolist(),\n",
    "   'D': np.random.normal(100, 10, size=(N)).tolist()\n",
    "})\n",
    "\n",
    "print(df)\n",
    "\n",
    "#reindex the DataFrame\n",
    "df_reindexed = df.reindex(index=[0,2,5], columns=['A', 'C', 'B'])\n",
    "\n",
    "print(df_reindexed)"
   ]
  },
  {
   "cell_type": "markdown",
   "metadata": {},
   "source": [
    "##### Reindex to Align with Other Objects\n",
    "\n",
    "To take an object and reindex its axes to be labeled the same as another object."
   ]
  },
  {
   "cell_type": "code",
   "execution_count": 10,
   "metadata": {},
   "outputs": [
    {
     "name": "stdout",
     "output_type": "stream",
     "text": [
      "       col1      col2      col3\n",
      "0 -0.787444 -1.312562  0.788321\n",
      "1 -0.270340  0.177002 -2.198987\n",
      "2 -0.725080 -0.377264  0.358572\n",
      "3  0.082100 -0.805059  0.328545\n",
      "4 -1.246865 -0.577428 -0.405740\n",
      "5 -0.481195  0.619955 -2.264124\n",
      "6 -1.171488  2.890562  0.889989\n",
      "7 -0.132826  0.791751 -2.360088\n",
      "8  0.810019 -0.071424 -0.469512\n",
      "9 -0.601577 -1.253190 -1.507150\n",
      "-------------------------------\n",
      "       col1      col2      col3\n",
      "0 -0.008254 -0.706958  0.745468\n",
      "1  1.434887  2.102366  1.275282\n",
      "2  0.211964  0.707461  0.765294\n",
      "3 -1.134213  0.109203 -0.173895\n",
      "4  1.657193 -0.090760 -0.322789\n",
      "5  0.536147 -1.193563  0.086529\n",
      "6  0.797502  0.588491  0.520362\n",
      "-------------------------------\n",
      "       col1      col2      col3\n",
      "0 -0.787444 -1.312562  0.788321\n",
      "1 -0.270340  0.177002 -2.198987\n",
      "2 -0.725080 -0.377264  0.358572\n",
      "3  0.082100 -0.805059  0.328545\n",
      "4 -1.246865 -0.577428 -0.405740\n",
      "5 -0.481195  0.619955 -2.264124\n",
      "6 -1.171488  2.890562  0.889989\n",
      "-------------------------------\n",
      "   col11  col12      col3\n",
      "0    NaN    NaN  0.788321\n",
      "1    NaN    NaN -2.198987\n",
      "2    NaN    NaN  0.358572\n",
      "3    NaN    NaN  0.328545\n",
      "4    NaN    NaN -0.405740\n"
     ]
    }
   ],
   "source": [
    "df1 = pd.DataFrame(np.random.randn(10,3),columns=['col1','col2','col3'])\n",
    "df2 = pd.DataFrame(np.random.randn(7,3),columns=['col1','col2','col3'])\n",
    "df3 = pd.DataFrame(np.random.randn(5,3),columns=['col11','col12','col3'])\n",
    "\n",
    "print (df1)\n",
    "print (\"-------------------------------\")\n",
    "print (df2)\n",
    "print (\"-------------------------------\")\n",
    "df1 = df1.reindex_like(df2)\n",
    "print (df1)\n",
    "print (\"-------------------------------\")\n",
    "df1 = df1.reindex_like(df3)\n",
    "print (df1)"
   ]
  },
  {
   "cell_type": "markdown",
   "metadata": {},
   "source": [
    "##### Filling while ReIndexing\n",
    "reindex() takes an optional parameter method which is a filling method with values as follows −\n",
    "\n",
    "1. pad/ffill − Fill values forward\n",
    "2. bfill/backfill − Fill values backward\n",
    "3. nearest − Fill from the nearest index values\n"
   ]
  },
  {
   "cell_type": "code",
   "execution_count": 12,
   "metadata": {},
   "outputs": [
    {
     "name": "stdout",
     "output_type": "stream",
     "text": [
      "       col1      col2      col3\n",
      "0  0.170535  0.639968 -0.826371\n",
      "1  1.176821 -0.027197 -0.865446\n",
      "2 -0.980751  1.625008  0.484655\n",
      "3  0.579718  1.043432  0.441946\n",
      "4  0.159697  0.037367 -0.544570\n",
      "5 -0.781826 -0.311292  0.177583\n",
      "-----------------------------\n",
      "       col1      col2      col3\n",
      "0  0.241973  1.060727  0.667641\n",
      "1  0.263910 -1.631842 -1.144406\n",
      "-----------------------------\n",
      "       col1      col2      col3\n",
      "0  0.241973  1.060727  0.667641\n",
      "1  0.263910 -1.631842 -1.144406\n",
      "2       NaN       NaN       NaN\n",
      "3       NaN       NaN       NaN\n",
      "4       NaN       NaN       NaN\n",
      "5       NaN       NaN       NaN\n",
      "Data Frame with Forward Fill:\n",
      "       col1      col2      col3\n",
      "0  0.241973  1.060727  0.667641\n",
      "1  0.263910 -1.631842 -1.144406\n",
      "2  0.263910 -1.631842 -1.144406\n",
      "3  0.263910 -1.631842 -1.144406\n",
      "4  0.263910 -1.631842 -1.144406\n",
      "5  0.263910 -1.631842 -1.144406\n"
     ]
    }
   ],
   "source": [
    "import pandas as pd\n",
    "import numpy as np\n",
    "df1 = pd.DataFrame(np.random.randn(6,3),columns=['col1','col2','col3'])\n",
    "df2 = pd.DataFrame(np.random.randn(2,3),columns=['col1','col2','col3'])\n",
    "\n",
    "print(df1)\n",
    "print(\"-----------------------------\")\n",
    "print(df2)\n",
    "print(\"-----------------------------\")\n",
    "\n",
    "# Padding NAN's\n",
    "print(df2.reindex_like(df1))\n",
    "\n",
    "# Now Fill the NAN's with preceding Values\n",
    "print(\"Data Frame with Forward Fill:\")\n",
    "print(df2.reindex_like(df1,method='ffill'))"
   ]
  },
  {
   "cell_type": "markdown",
   "metadata": {},
   "source": [
    "##### Limits on Filling while Reindexing\n",
    "The limit argument provides additional control over filling while reindexing. Limit specifies the maximum count of consecutive matches."
   ]
  },
  {
   "cell_type": "code",
   "execution_count": 18,
   "metadata": {},
   "outputs": [
    {
     "name": "stdout",
     "output_type": "stream",
     "text": [
      "       col1      col2      col3\n",
      "0  1.036803 -0.173416 -0.955774\n",
      "1  2.213998 -1.071261 -1.517364\n",
      "2       NaN       NaN       NaN\n",
      "3       NaN       NaN       NaN\n",
      "4       NaN       NaN       NaN\n",
      "5       NaN       NaN       NaN\n",
      "Data Frame with Forward Fill limiting to 1:\n",
      "       col1      col2      col3\n",
      "0  1.036803 -0.173416 -0.955774\n",
      "1  2.213998 -1.071261 -1.517364\n",
      "2  2.213998 -1.071261 -1.517364\n",
      "3       NaN       NaN       NaN\n",
      "4       NaN       NaN       NaN\n",
      "5       NaN       NaN       NaN\n"
     ]
    }
   ],
   "source": [
    "df1 = pd.DataFrame(np.random.randn(6,3),columns=['col1','col2','col3'])\n",
    "df2 = pd.DataFrame(np.random.randn(2,3),columns=['col1','col2','col3'])\n",
    "\n",
    "# Padding NAN's\n",
    "print(df2.reindex_like(df1))\n",
    "\n",
    "# Now Fill the NAN's with preceding Values\n",
    "print (\"Data Frame with Forward Fill limiting to 1:\")\n",
    "print (df2.reindex_like(df1,method='ffill',limit=1))"
   ]
  },
  {
   "cell_type": "markdown",
   "metadata": {},
   "source": [
    "##### Renaming\n",
    "\n",
    "The rename() method allows you to relabel an axis based on some mapping (a dict or Series) or an arbitrary function."
   ]
  },
  {
   "cell_type": "code",
   "execution_count": 23,
   "metadata": {},
   "outputs": [
    {
     "name": "stdout",
     "output_type": "stream",
     "text": [
      "       col1      col2      col3\n",
      "0  1.095798 -1.071453 -0.259364\n",
      "1  0.877684  0.558646 -0.785188\n",
      "2  0.055288 -0.608171  0.706043\n",
      "3 -0.369797  0.914071  0.571440\n",
      "4 -1.230212 -0.752459 -0.372494\n",
      "5  1.807578 -2.742196  0.178473\n",
      "After renaming the rows and columns:\n",
      "              c1        c2      col3\n",
      "apple   1.095798 -1.071453 -0.259364\n",
      "banana  0.877684  0.558646 -0.785188\n",
      "durian  0.055288 -0.608171  0.706043\n",
      "3      -0.369797  0.914071  0.571440\n",
      "4      -1.230212 -0.752459 -0.372494\n",
      "5       1.807578 -2.742196  0.178473\n"
     ]
    }
   ],
   "source": [
    "df1 = pd.DataFrame(np.random.randn(6,3),columns=['col1','col2','col3'])\n",
    "print (df1)\n",
    "\n",
    "print (\"After renaming the rows and columns:\")\n",
    "print (df1.rename(columns={'col1' : 'c1', 'col2' : 'c2'},index = {0 : 'apple', 1 : 'banana', 2 : 'durian'}))"
   ]
  },
  {
   "cell_type": "markdown",
   "metadata": {},
   "source": [
    "The rename() method provides an inplace named parameter, which by default is False and copies the underlying data. Pass inplace=True to rename the data in place."
   ]
  },
  {
   "cell_type": "code",
   "execution_count": 25,
   "metadata": {},
   "outputs": [
    {
     "name": "stdout",
     "output_type": "stream",
     "text": [
      "None\n"
     ]
    }
   ],
   "source": []
  },
  {
   "cell_type": "code",
   "execution_count": null,
   "metadata": {},
   "outputs": [],
   "source": []
  }
 ],
 "metadata": {
  "kernelspec": {
   "display_name": "Python 3",
   "language": "python",
   "name": "python3"
  },
  "language_info": {
   "codemirror_mode": {
    "name": "ipython",
    "version": 3
   },
   "file_extension": ".py",
   "mimetype": "text/x-python",
   "name": "python",
   "nbconvert_exporter": "python",
   "pygments_lexer": "ipython3",
   "version": "3.6.5"
  }
 },
 "nbformat": 4,
 "nbformat_minor": 2
}
